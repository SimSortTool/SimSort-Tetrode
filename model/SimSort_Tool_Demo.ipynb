{
 "cells": [
  {
   "cell_type": "markdown",
   "metadata": {},
   "source": [
    "# SimSort Neural Signal Analysis Tool"
   ]
  },
  {
   "cell_type": "markdown",
   "metadata": {},
   "source": [
    "This notebook demonstrates how to use the **SimSort** tool for sorting neural signals."
   ]
  },
  {
   "cell_type": "code",
   "execution_count": 1,
   "metadata": {},
   "outputs": [],
   "source": [
    "import spikeinterface.extractors as se\n",
    "from task.custom_sorting import SortingTask"
   ]
  },
  {
   "cell_type": "markdown",
   "metadata": {},
   "source": [
    "## 1. Read Recording File\n",
    "Load your recording data from various formats, such as `.plx`, `.mda`, or `.npy`.\n",
    "\n",
    "For a full list of compatible formats, refer to the [Supported File Formats](https://spikeinterface.readthedocs.io/en/stable/modules/extractors.html#compatible-formats).\n",
    "\n",
    "Here’s an example using the `.plx` format:"
   ]
  },
  {
   "cell_type": "code",
   "execution_count": null,
   "metadata": {},
   "outputs": [],
   "source": [
    "recording_file = r'custom_data/4chTetrodeDemoPLX.plx'\n",
    "recording = se.PlexonRecordingExtractor(recording_file, stream_name='TETWB')"
   ]
  },
  {
   "cell_type": "markdown",
   "metadata": {},
   "source": [
    "## 2. Spike Sorting\n",
    "Run the class `SortingTask` to perform spike sorting on your recording. \n",
    "\n",
    "SimSort's spike sorting workflow, automates:\n",
    "\n",
    "- **Data Preprocessing**: Filtering, normalizing and whitening the data.\n",
    "- **Spike Detection**: Identifies spike events using a pre-trained model.\n",
    "- **Spike Identification**: Extracts latent features of waveforms using a pre-trained model, reduces dimensionality, and clusters spikes into neuronal units.\n"
   ]
  },
  {
   "cell_type": "code",
   "execution_count": null,
   "metadata": {},
   "outputs": [],
   "source": [
    "sorting = SortingTask(recording=recording, verbose=False)\n",
    "sorting.run()"
   ]
  },
  {
   "cell_type": "markdown",
   "metadata": {},
   "source": [
    "## 3. Saving Results\n",
    "The sorted results, including spike waveforms, timestamps, and metadata, can be saved using the `save_results()` method."
   ]
  },
  {
   "cell_type": "code",
   "execution_count": null,
   "metadata": {},
   "outputs": [],
   "source": [
    "sorting.save_results(output_dir='./simsort_results')"
   ]
  }
 ],
 "metadata": {
  "kernelspec": {
   "display_name": "SimSort",
   "language": "python",
   "name": "python3"
  },
  "language_info": {
   "codemirror_mode": {
    "name": "ipython",
    "version": 3
   },
   "file_extension": ".py",
   "mimetype": "text/x-python",
   "name": "python",
   "nbconvert_exporter": "python",
   "pygments_lexer": "ipython3",
   "version": "3.10.15"
  }
 },
 "nbformat": 4,
 "nbformat_minor": 2
}
